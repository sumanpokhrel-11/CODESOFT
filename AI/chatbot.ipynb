{
 "cells": [
  {
   "cell_type": "markdown",
   "id": "3c3ae5aa",
   "metadata": {},
   "source": [
    "# Task : 1 Chatbot with Rule Based Responses\n",
    "## Artificial Intelligence Internship at CodeSoft\n",
    "## Author : Suman Pokhrel\n",
    "\n",
    "## Batch : April A47\n",
    "\n",
    "## Domain : Artificial Intelligence\n",
    "\n",
    "## Task : Chatbot with Rule Based Responses"
   ]
  },
  {
   "cell_type": "code",
   "execution_count": 1,
   "id": "329cec83",
   "metadata": {},
   "outputs": [],
   "source": [
    "def chatbot_response(user_input):\n",
    "    user_input = user_input.lower()\n",
    "\n",
    "    # Define some simple rules and responses\n",
    "    if \"hello\" in user_input or \"hi\" in user_input:\n",
    "        return \"Hello! How can I assist you today?\"\n",
    "\n",
    "    elif \"how are you\" in user_input:\n",
    "        return \"I'm good thank you, How are you? And How can I help you?\"\n",
    "\n",
    "    elif \"what's your name?\" in user_input or \"who are you?\" in user_input:\n",
    "        return \"I am Pooja, your friendly rule-based chatbot.\"\n",
    "\n",
    "    elif \"bye\" in user_input or \"goodbye\" in user_input:\n",
    "        return \"Goodbye! Have a great day!\"\n",
    "\n",
    "    else:\n",
    "        return \"I'm sorry, I don't understand. Can you please rephrase or ask another question?\"\n"
   ]
  },
  {
   "cell_type": "markdown",
   "id": "7af290f9",
   "metadata": {},
   "source": [
    "# Main loop for user interaction\n"
   ]
  },
  {
   "cell_type": "code",
   "execution_count": null,
   "id": "4bf154de",
   "metadata": {},
   "outputs": [
    {
     "name": "stdout",
     "output_type": "stream",
     "text": [
      "Chatbot: Hi! I am Suman, your friendly chatbot. How can I assist you today?\n",
      "You: hello\n",
      "Chatbot: Hello! How can I assist you today?\n",
      "You: how are you\n",
      "Chatbot: I'm good thank you, How are you? And How can I help you?\n",
      "You: how are you doing\n",
      "Chatbot: I'm good thank you, How are you? And How can I help you?\n",
      "You: how are you feeling\n",
      "Chatbot: I'm good thank you, How are you? And How can I help you?\n",
      "You: \n",
      "Chatbot: I'm sorry, I don't understand. Can you please rephrase or ask another question?\n",
      "You: \n",
      "Chatbot: I'm sorry, I don't understand. Can you please rephrase or ask another question?\n"
     ]
    }
   ],
   "source": [
    "def main():\n",
    "    print(\"Chatbot: Hi! I am Suman, your friendly chatbot. How can I assist you today?\")\n",
    "\n",
    "    while True:\n",
    "        user_input = input(\"You: \")\n",
    "        if user_input.lower() == 'exit':\n",
    "            print(\"Chatbot: Goodbye! Have a great day!\")\n",
    "            break\n",
    "        else:\n",
    "            response = chatbot_response(user_input)\n",
    "            print(\"Chatbot:\", response)\n",
    "\n",
    "if __name__ == \"__main__\":\n",
    "    main()"
   ]
  },
  {
   "cell_type": "code",
   "execution_count": null,
   "id": "0711c246",
   "metadata": {},
   "outputs": [],
   "source": [
    "\n"
   ]
  }
 ],
 "metadata": {
  "kernelspec": {
   "display_name": "Python 3 (ipykernel)",
   "language": "python",
   "name": "python3"
  },
  "language_info": {
   "codemirror_mode": {
    "name": "ipython",
    "version": 3
   },
   "file_extension": ".py",
   "mimetype": "text/x-python",
   "name": "python",
   "nbconvert_exporter": "python",
   "pygments_lexer": "ipython3",
   "version": "3.10.2"
  }
 },
 "nbformat": 4,
 "nbformat_minor": 5
}
